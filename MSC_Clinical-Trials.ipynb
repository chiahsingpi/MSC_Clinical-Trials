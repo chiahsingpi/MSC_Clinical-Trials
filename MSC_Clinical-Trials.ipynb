{
 "cells": [
  {
   "cell_type": "code",
   "execution_count": 1,
   "metadata": {
    "colab": {},
    "colab_type": "code",
    "id": "JejVTaqQn5Sa"
   },
   "outputs": [],
   "source": [
    "%matplotlib inline\n",
    "import pandas as pd\n",
    "import numpy as np\n",
    "import matplotlib.pyplot as plt\n",
    "import seaborn as sns"
   ]
  },
  {
   "cell_type": "markdown",
   "metadata": {
    "colab_type": "text",
    "id": "iLnMPzHn5e_-"
   },
   "source": [
    "# Read Data"
   ]
  },
  {
   "cell_type": "code",
   "execution_count": 2,
   "metadata": {
    "colab": {},
    "colab_type": "code",
    "id": "Ii9yu4Bc5u6Q"
   },
   "outputs": [
    {
     "name": "stdout",
     "output_type": "stream",
     "text": [
      "Wall time: 18.2 ms\n"
     ]
    },
    {
     "data": {
      "text/html": [
       "<div>\n",
       "<style scoped>\n",
       "    .dataframe tbody tr th:only-of-type {\n",
       "        vertical-align: middle;\n",
       "    }\n",
       "\n",
       "    .dataframe tbody tr th {\n",
       "        vertical-align: top;\n",
       "    }\n",
       "\n",
       "    .dataframe thead th {\n",
       "        text-align: right;\n",
       "    }\n",
       "</style>\n",
       "<table border=\"1\" class=\"dataframe\">\n",
       "  <thead>\n",
       "    <tr style=\"text-align: right;\">\n",
       "      <th></th>\n",
       "      <th>NCTNumber</th>\n",
       "      <th>Title</th>\n",
       "      <th>Acronym</th>\n",
       "      <th>Status</th>\n",
       "      <th>Conditions</th>\n",
       "      <th>Interventions</th>\n",
       "      <th>OutcomeMeasures</th>\n",
       "      <th>Sponsor/Collaborators</th>\n",
       "      <th>Gender</th>\n",
       "      <th>Age</th>\n",
       "      <th>...</th>\n",
       "      <th>PrimaryCompletionDate</th>\n",
       "      <th>CompletionDate</th>\n",
       "      <th>FirstPosted</th>\n",
       "      <th>ResultsFirstPosted</th>\n",
       "      <th>LastUpdatePosted</th>\n",
       "      <th>Locations</th>\n",
       "      <th>Rank</th>\n",
       "      <th>StudyDocuments</th>\n",
       "      <th>StudyResults</th>\n",
       "      <th>URL</th>\n",
       "    </tr>\n",
       "  </thead>\n",
       "  <tbody>\n",
       "    <tr>\n",
       "      <th>0</th>\n",
       "      <td>NCT04073472</td>\n",
       "      <td>Mesenchymal Stem Cells for the Treatment of Po...</td>\n",
       "      <td>IPAAF</td>\n",
       "      <td>Not yet recruiting</td>\n",
       "      <td>Crohn's Disease|Fistula|Anal Fistula|Pouch, Il...</td>\n",
       "      <td>Drug: mesenchymal stem cells (MSCs)</td>\n",
       "      <td>Safety and Feasibility: Number Of Adverse Even...</td>\n",
       "      <td>The Cleveland Clinic</td>\n",
       "      <td>All</td>\n",
       "      <td>18 Years to 75 Years   (Adult, Older Adult)</td>\n",
       "      <td>...</td>\n",
       "      <td>November 1, 2021</td>\n",
       "      <td>November 1, 2022</td>\n",
       "      <td>August 29, 2019</td>\n",
       "      <td>NaN</td>\n",
       "      <td>August 29, 2019</td>\n",
       "      <td>Cleveland Clinic, Cleveland, Ohio, United States</td>\n",
       "      <td>1</td>\n",
       "      <td>NaN</td>\n",
       "      <td>No Results Available</td>\n",
       "      <td>https://ClinicalTrials.gov/show/NCT04073472</td>\n",
       "    </tr>\n",
       "    <tr>\n",
       "      <th>1</th>\n",
       "      <td>NCT02804945</td>\n",
       "      <td>Mesenchymal Stem Cells (MSCs) for Treatment of...</td>\n",
       "      <td>NaN</td>\n",
       "      <td>Completed</td>\n",
       "      <td>Blood And Marrow Transplantation|Adult Respira...</td>\n",
       "      <td>Biological: Mesenchymal Stem Cells (MSCs)</td>\n",
       "      <td>Adverse Events of Participants Treated with Al...</td>\n",
       "      <td>M.D. Anderson Cancer Center|Katz Foundation</td>\n",
       "      <td>All</td>\n",
       "      <td>18 Years and older   (Adult, Older Adult)</td>\n",
       "      <td>...</td>\n",
       "      <td>June 13, 2019</td>\n",
       "      <td>June 13, 2019</td>\n",
       "      <td>June 17, 2016</td>\n",
       "      <td>NaN</td>\n",
       "      <td>August 26, 2019</td>\n",
       "      <td>University of Texas MD Anderson Cancer Center,...</td>\n",
       "      <td>2</td>\n",
       "      <td>NaN</td>\n",
       "      <td>No Results Available</td>\n",
       "      <td>https://ClinicalTrials.gov/show/NCT02804945</td>\n",
       "    </tr>\n",
       "    <tr>\n",
       "      <th>2</th>\n",
       "      <td>NCT02866721</td>\n",
       "      <td>Safety and Tolerability Study of Allogeneic Me...</td>\n",
       "      <td>CEASE-CF</td>\n",
       "      <td>Recruiting</td>\n",
       "      <td>Cystic Fibrosis</td>\n",
       "      <td>Biological: Mesenchymal Stem Cells</td>\n",
       "      <td>Dose limiting toxicity (DLT), triggered by occ...</td>\n",
       "      <td>Erica Roesch|Case Western Reserve University|C...</td>\n",
       "      <td>All</td>\n",
       "      <td>18 Years and older   (Adult, Older Adult)</td>\n",
       "      <td>...</td>\n",
       "      <td>December 2019</td>\n",
       "      <td>December 2020</td>\n",
       "      <td>August 15, 2016</td>\n",
       "      <td>NaN</td>\n",
       "      <td>February 12, 2019</td>\n",
       "      <td>University Hospitals Cleveland Medical Center,...</td>\n",
       "      <td>3</td>\n",
       "      <td>NaN</td>\n",
       "      <td>No Results Available</td>\n",
       "      <td>https://ClinicalTrials.gov/show/NCT02866721</td>\n",
       "    </tr>\n",
       "    <tr>\n",
       "      <th>3</th>\n",
       "      <td>NCT02181712</td>\n",
       "      <td>Mesenchymal Stem Cell Therapy for Lung Rejection</td>\n",
       "      <td>NaN</td>\n",
       "      <td>Recruiting</td>\n",
       "      <td>Lung Transplant Reject|Bronchiolitis Obliterans</td>\n",
       "      <td>Biological: Mesenchymal stem cell 0.5|Biologic...</td>\n",
       "      <td>Number of Participants with serious and non-se...</td>\n",
       "      <td>Mayo Clinic</td>\n",
       "      <td>All</td>\n",
       "      <td>18 Years to 75 Years   (Adult, Older Adult)</td>\n",
       "      <td>...</td>\n",
       "      <td>September 2020</td>\n",
       "      <td>September 2021</td>\n",
       "      <td>July 4, 2014</td>\n",
       "      <td>NaN</td>\n",
       "      <td>September 25, 2019</td>\n",
       "      <td>Mayo Clinic in Florida, Jacksonville, Florida,...</td>\n",
       "      <td>4</td>\n",
       "      <td>NaN</td>\n",
       "      <td>No Results Available</td>\n",
       "      <td>https://ClinicalTrials.gov/show/NCT02181712</td>\n",
       "    </tr>\n",
       "    <tr>\n",
       "      <th>4</th>\n",
       "      <td>NCT04047810</td>\n",
       "      <td>Mesenchymal Stem Cells in the Treatment of Sub...</td>\n",
       "      <td>NaN</td>\n",
       "      <td>Recruiting</td>\n",
       "      <td>Chronic Obstructive Pulmonary Disease</td>\n",
       "      <td>Biological: Mesenchymal Stem Cells</td>\n",
       "      <td>Adverse Events</td>\n",
       "      <td>Mayo Clinic</td>\n",
       "      <td>All</td>\n",
       "      <td>40 Years to 65 Years   (Adult, Older Adult)</td>\n",
       "      <td>...</td>\n",
       "      <td>August 16, 2021</td>\n",
       "      <td>August 16, 2021</td>\n",
       "      <td>August 7, 2019</td>\n",
       "      <td>NaN</td>\n",
       "      <td>October 10, 2019</td>\n",
       "      <td>Mayo Clinic in Florida, Jacksonville, Florida,...</td>\n",
       "      <td>5</td>\n",
       "      <td>NaN</td>\n",
       "      <td>No Results Available</td>\n",
       "      <td>https://ClinicalTrials.gov/show/NCT04047810</td>\n",
       "    </tr>\n",
       "    <tr>\n",
       "      <th>5</th>\n",
       "      <td>NCT02484950</td>\n",
       "      <td>Mesenchymal Stem Cell Augmentation in Patients...</td>\n",
       "      <td>NaN</td>\n",
       "      <td>Recruiting</td>\n",
       "      <td>Full Thickness Rotator Cuff Tear</td>\n",
       "      <td>Biological: Mesenchymal stem cell augmentation...</td>\n",
       "      <td>American Shoulder and Elbow Surgeons (ASES) Sc...</td>\n",
       "      <td>Rush University Medical Center</td>\n",
       "      <td>All</td>\n",
       "      <td>18 Years to 70 Years   (Adult, Older Adult)</td>\n",
       "      <td>...</td>\n",
       "      <td>November 2018</td>\n",
       "      <td>November 2020</td>\n",
       "      <td>June 30, 2015</td>\n",
       "      <td>NaN</td>\n",
       "      <td>October 25, 2017</td>\n",
       "      <td>Rush University Medical Center, Chicago, Illin...</td>\n",
       "      <td>6</td>\n",
       "      <td>NaN</td>\n",
       "      <td>No Results Available</td>\n",
       "      <td>https://ClinicalTrials.gov/show/NCT02484950</td>\n",
       "    </tr>\n",
       "    <tr>\n",
       "      <th>6</th>\n",
       "      <td>NCT02315027</td>\n",
       "      <td>Mesenchymal Stem Cell Therapy in Multiple Syst...</td>\n",
       "      <td>NaN</td>\n",
       "      <td>Active, not recruiting</td>\n",
       "      <td>MSA</td>\n",
       "      <td>Biological: autologous mesenchymal stem cells</td>\n",
       "      <td>Adverse event frequency (by severity, type, at...</td>\n",
       "      <td>Mayo Clinic</td>\n",
       "      <td>All</td>\n",
       "      <td>30 Years to 80 Years   (Adult, Older Adult)</td>\n",
       "      <td>...</td>\n",
       "      <td>August 2020</td>\n",
       "      <td>August 2020</td>\n",
       "      <td>December 11, 2014</td>\n",
       "      <td>NaN</td>\n",
       "      <td>October 2, 2019</td>\n",
       "      <td>Mayo Clinic in Rochester, Rochester, Minnesota...</td>\n",
       "      <td>7</td>\n",
       "      <td>NaN</td>\n",
       "      <td>No Results Available</td>\n",
       "      <td>https://ClinicalTrials.gov/show/NCT02315027</td>\n",
       "    </tr>\n",
       "    <tr>\n",
       "      <th>7</th>\n",
       "      <td>NCT02235844</td>\n",
       "      <td>Allogeneic Human Umbilical Cord Mesenchymal St...</td>\n",
       "      <td>NaN</td>\n",
       "      <td>Completed</td>\n",
       "      <td>Duchenne's Muscular Dystrophy</td>\n",
       "      <td>Biological: Umbilical Cord Mesenchymal Stem Cells</td>\n",
       "      <td>Adverse Events|Change from baseline of weight|...</td>\n",
       "      <td>Allergy and Asthma Consultants, Wichita, Kansa...</td>\n",
       "      <td>Male</td>\n",
       "      <td>28 Years to 31 Years   (Adult)</td>\n",
       "      <td>...</td>\n",
       "      <td>September 30, 2017</td>\n",
       "      <td>September 30, 2017</td>\n",
       "      <td>September 10, 2014</td>\n",
       "      <td>NaN</td>\n",
       "      <td>September 16, 2019</td>\n",
       "      <td>Asthma and Allergy Consultants, Wichita, Kansa...</td>\n",
       "      <td>8</td>\n",
       "      <td>NaN</td>\n",
       "      <td>No Results Available</td>\n",
       "      <td>https://ClinicalTrials.gov/show/NCT02235844</td>\n",
       "    </tr>\n",
       "    <tr>\n",
       "      <th>8</th>\n",
       "      <td>NCT03570333</td>\n",
       "      <td>Progenitor Potential of Mesenchymal Stem Cells...</td>\n",
       "      <td>NaN</td>\n",
       "      <td>Active, not recruiting</td>\n",
       "      <td>Gingival Recession|Lack of Keratinized Gingiva...</td>\n",
       "      <td>Diagnostic Test: progenitor potential of Gingi...</td>\n",
       "      <td>Osteogenic potential|Adipogenic potential|Geno...</td>\n",
       "      <td>University of Alabama at Birmingham</td>\n",
       "      <td>All</td>\n",
       "      <td>18 Years to 70 Years   (Adult, Older Adult)</td>\n",
       "      <td>...</td>\n",
       "      <td>December 2019</td>\n",
       "      <td>December 2020</td>\n",
       "      <td>June 26, 2018</td>\n",
       "      <td>NaN</td>\n",
       "      <td>July 19, 2019</td>\n",
       "      <td>UAB School of Dentistry Department of Periodon...</td>\n",
       "      <td>9</td>\n",
       "      <td>NaN</td>\n",
       "      <td>No Results Available</td>\n",
       "      <td>https://ClinicalTrials.gov/show/NCT03570333</td>\n",
       "    </tr>\n",
       "    <tr>\n",
       "      <th>9</th>\n",
       "      <td>NCT02530047</td>\n",
       "      <td>Mesenchymal Stem Cells (MSC) for Ovarian Cancer</td>\n",
       "      <td>NaN</td>\n",
       "      <td>Completed</td>\n",
       "      <td>Ovarian Cancer</td>\n",
       "      <td>Genetic: MSC-INFβ|Behavioral: Questionnaires</td>\n",
       "      <td>Maximum Tolerated Dose (MTD) of Mesenchymal St...</td>\n",
       "      <td>M.D. Anderson Cancer Center</td>\n",
       "      <td>Female</td>\n",
       "      <td>18 Years to 90 Years   (Adult, Older Adult)</td>\n",
       "      <td>...</td>\n",
       "      <td>June 13, 2019</td>\n",
       "      <td>June 13, 2019</td>\n",
       "      <td>August 20, 2015</td>\n",
       "      <td>NaN</td>\n",
       "      <td>July 18, 2019</td>\n",
       "      <td>University of Texas MD Anderson Cancer Center,...</td>\n",
       "      <td>10</td>\n",
       "      <td>NaN</td>\n",
       "      <td>No Results Available</td>\n",
       "      <td>https://ClinicalTrials.gov/show/NCT02530047</td>\n",
       "    </tr>\n",
       "  </tbody>\n",
       "</table>\n",
       "<p>10 rows × 27 columns</p>\n",
       "</div>"
      ],
      "text/plain": [
       "     NCTNumber                                              Title   Acronym  \\\n",
       "0  NCT04073472  Mesenchymal Stem Cells for the Treatment of Po...     IPAAF   \n",
       "1  NCT02804945  Mesenchymal Stem Cells (MSCs) for Treatment of...       NaN   \n",
       "2  NCT02866721  Safety and Tolerability Study of Allogeneic Me...  CEASE-CF   \n",
       "3  NCT02181712   Mesenchymal Stem Cell Therapy for Lung Rejection       NaN   \n",
       "4  NCT04047810  Mesenchymal Stem Cells in the Treatment of Sub...       NaN   \n",
       "5  NCT02484950  Mesenchymal Stem Cell Augmentation in Patients...       NaN   \n",
       "6  NCT02315027  Mesenchymal Stem Cell Therapy in Multiple Syst...       NaN   \n",
       "7  NCT02235844  Allogeneic Human Umbilical Cord Mesenchymal St...       NaN   \n",
       "8  NCT03570333  Progenitor Potential of Mesenchymal Stem Cells...       NaN   \n",
       "9  NCT02530047    Mesenchymal Stem Cells (MSC) for Ovarian Cancer       NaN   \n",
       "\n",
       "                   Status                                         Conditions  \\\n",
       "0      Not yet recruiting  Crohn's Disease|Fistula|Anal Fistula|Pouch, Il...   \n",
       "1               Completed  Blood And Marrow Transplantation|Adult Respira...   \n",
       "2              Recruiting                                    Cystic Fibrosis   \n",
       "3              Recruiting    Lung Transplant Reject|Bronchiolitis Obliterans   \n",
       "4              Recruiting              Chronic Obstructive Pulmonary Disease   \n",
       "5              Recruiting                   Full Thickness Rotator Cuff Tear   \n",
       "6  Active, not recruiting                                                MSA   \n",
       "7               Completed                      Duchenne's Muscular Dystrophy   \n",
       "8  Active, not recruiting  Gingival Recession|Lack of Keratinized Gingiva...   \n",
       "9               Completed                                     Ovarian Cancer   \n",
       "\n",
       "                                       Interventions  \\\n",
       "0                Drug: mesenchymal stem cells (MSCs)   \n",
       "1          Biological: Mesenchymal Stem Cells (MSCs)   \n",
       "2                 Biological: Mesenchymal Stem Cells   \n",
       "3  Biological: Mesenchymal stem cell 0.5|Biologic...   \n",
       "4                 Biological: Mesenchymal Stem Cells   \n",
       "5  Biological: Mesenchymal stem cell augmentation...   \n",
       "6      Biological: autologous mesenchymal stem cells   \n",
       "7  Biological: Umbilical Cord Mesenchymal Stem Cells   \n",
       "8  Diagnostic Test: progenitor potential of Gingi...   \n",
       "9       Genetic: MSC-INFβ|Behavioral: Questionnaires   \n",
       "\n",
       "                                     OutcomeMeasures  \\\n",
       "0  Safety and Feasibility: Number Of Adverse Even...   \n",
       "1  Adverse Events of Participants Treated with Al...   \n",
       "2  Dose limiting toxicity (DLT), triggered by occ...   \n",
       "3  Number of Participants with serious and non-se...   \n",
       "4                                     Adverse Events   \n",
       "5  American Shoulder and Elbow Surgeons (ASES) Sc...   \n",
       "6  Adverse event frequency (by severity, type, at...   \n",
       "7  Adverse Events|Change from baseline of weight|...   \n",
       "8  Osteogenic potential|Adipogenic potential|Geno...   \n",
       "9  Maximum Tolerated Dose (MTD) of Mesenchymal St...   \n",
       "\n",
       "                               Sponsor/Collaborators  Gender  \\\n",
       "0                               The Cleveland Clinic     All   \n",
       "1        M.D. Anderson Cancer Center|Katz Foundation     All   \n",
       "2  Erica Roesch|Case Western Reserve University|C...     All   \n",
       "3                                        Mayo Clinic     All   \n",
       "4                                        Mayo Clinic     All   \n",
       "5                     Rush University Medical Center     All   \n",
       "6                                        Mayo Clinic     All   \n",
       "7  Allergy and Asthma Consultants, Wichita, Kansa...    Male   \n",
       "8                University of Alabama at Birmingham     All   \n",
       "9                        M.D. Anderson Cancer Center  Female   \n",
       "\n",
       "                                           Age  ... PrimaryCompletionDate  \\\n",
       "0  18 Years to 75 Years   (Adult, Older Adult)  ...      November 1, 2021   \n",
       "1    18 Years and older   (Adult, Older Adult)  ...         June 13, 2019   \n",
       "2    18 Years and older   (Adult, Older Adult)  ...         December 2019   \n",
       "3  18 Years to 75 Years   (Adult, Older Adult)  ...        September 2020   \n",
       "4  40 Years to 65 Years   (Adult, Older Adult)  ...       August 16, 2021   \n",
       "5  18 Years to 70 Years   (Adult, Older Adult)  ...         November 2018   \n",
       "6  30 Years to 80 Years   (Adult, Older Adult)  ...           August 2020   \n",
       "7               28 Years to 31 Years   (Adult)  ...    September 30, 2017   \n",
       "8  18 Years to 70 Years   (Adult, Older Adult)  ...         December 2019   \n",
       "9  18 Years to 90 Years   (Adult, Older Adult)  ...         June 13, 2019   \n",
       "\n",
       "       CompletionDate         FirstPosted ResultsFirstPosted  \\\n",
       "0    November 1, 2022     August 29, 2019                NaN   \n",
       "1       June 13, 2019       June 17, 2016                NaN   \n",
       "2       December 2020     August 15, 2016                NaN   \n",
       "3      September 2021        July 4, 2014                NaN   \n",
       "4     August 16, 2021      August 7, 2019                NaN   \n",
       "5       November 2020       June 30, 2015                NaN   \n",
       "6         August 2020   December 11, 2014                NaN   \n",
       "7  September 30, 2017  September 10, 2014                NaN   \n",
       "8       December 2020       June 26, 2018                NaN   \n",
       "9       June 13, 2019     August 20, 2015                NaN   \n",
       "\n",
       "     LastUpdatePosted                                          Locations Rank  \\\n",
       "0     August 29, 2019   Cleveland Clinic, Cleveland, Ohio, United States    1   \n",
       "1     August 26, 2019  University of Texas MD Anderson Cancer Center,...    2   \n",
       "2   February 12, 2019  University Hospitals Cleveland Medical Center,...    3   \n",
       "3  September 25, 2019  Mayo Clinic in Florida, Jacksonville, Florida,...    4   \n",
       "4    October 10, 2019  Mayo Clinic in Florida, Jacksonville, Florida,...    5   \n",
       "5    October 25, 2017  Rush University Medical Center, Chicago, Illin...    6   \n",
       "6     October 2, 2019  Mayo Clinic in Rochester, Rochester, Minnesota...    7   \n",
       "7  September 16, 2019  Asthma and Allergy Consultants, Wichita, Kansa...    8   \n",
       "8       July 19, 2019  UAB School of Dentistry Department of Periodon...    9   \n",
       "9       July 18, 2019  University of Texas MD Anderson Cancer Center,...   10   \n",
       "\n",
       "  StudyDocuments          StudyResults  \\\n",
       "0            NaN  No Results Available   \n",
       "1            NaN  No Results Available   \n",
       "2            NaN  No Results Available   \n",
       "3            NaN  No Results Available   \n",
       "4            NaN  No Results Available   \n",
       "5            NaN  No Results Available   \n",
       "6            NaN  No Results Available   \n",
       "7            NaN  No Results Available   \n",
       "8            NaN  No Results Available   \n",
       "9            NaN  No Results Available   \n",
       "\n",
       "                                           URL  \n",
       "0  https://ClinicalTrials.gov/show/NCT04073472  \n",
       "1  https://ClinicalTrials.gov/show/NCT02804945  \n",
       "2  https://ClinicalTrials.gov/show/NCT02866721  \n",
       "3  https://ClinicalTrials.gov/show/NCT02181712  \n",
       "4  https://ClinicalTrials.gov/show/NCT04047810  \n",
       "5  https://ClinicalTrials.gov/show/NCT02484950  \n",
       "6  https://ClinicalTrials.gov/show/NCT02315027  \n",
       "7  https://ClinicalTrials.gov/show/NCT02235844  \n",
       "8  https://ClinicalTrials.gov/show/NCT03570333  \n",
       "9  https://ClinicalTrials.gov/show/NCT02530047  \n",
       "\n",
       "[10 rows x 27 columns]"
      ]
     },
     "execution_count": 2,
     "metadata": {},
     "output_type": "execute_result"
    }
   ],
   "source": [
    "%%time\n",
    "CT_data = pd.read_csv(\"20191015_ClinicalTrials_mesenchymal+stem+cell.csv\")\n",
    "CT_data.head(10)"
   ]
  },
  {
   "cell_type": "code",
   "execution_count": 3,
   "metadata": {},
   "outputs": [
    {
     "name": "stdout",
     "output_type": "stream",
     "text": [
      "['NCTNumber' 'Title' 'Acronym' 'Status' 'Conditions' 'Interventions'\n",
      " 'OutcomeMeasures' 'Sponsor/Collaborators' 'Gender' 'Age' 'Phases'\n",
      " 'Enrollment' 'FundedBys' 'StudyType' 'StudyDesigns' 'OtherIDs'\n",
      " 'StartDate' 'PrimaryCompletionDate' 'CompletionDate' 'FirstPosted'\n",
      " 'ResultsFirstPosted' 'LastUpdatePosted' 'Locations' 'Rank'\n",
      " 'StudyDocuments' 'StudyResults' 'URL']\n"
     ]
    }
   ],
   "source": [
    "# print out all column indices\n",
    "print(CT_data.columns.values)"
   ]
  },
  {
   "cell_type": "code",
   "execution_count": 4,
   "metadata": {},
   "outputs": [
    {
     "name": "stdout",
     "output_type": "stream",
     "text": [
      "<class 'pandas.core.frame.DataFrame'>\n",
      "RangeIndex: 201 entries, 0 to 200\n",
      "Data columns (total 27 columns):\n",
      "NCTNumber                201 non-null object\n",
      "Title                    201 non-null object\n",
      "Acronym                  49 non-null object\n",
      "Status                   201 non-null object\n",
      "Conditions               201 non-null object\n",
      "Interventions            191 non-null object\n",
      "OutcomeMeasures          193 non-null object\n",
      "Sponsor/Collaborators    201 non-null object\n",
      "Gender                   201 non-null object\n",
      "Age                      201 non-null object\n",
      "Phases                   178 non-null object\n",
      "Enrollment               193 non-null float64\n",
      "FundedBys                201 non-null object\n",
      "StudyType                201 non-null object\n",
      "StudyDesigns             192 non-null object\n",
      "OtherIDs                 201 non-null object\n",
      "StartDate                192 non-null object\n",
      "PrimaryCompletionDate    191 non-null object\n",
      "CompletionDate           190 non-null object\n",
      "FirstPosted              201 non-null object\n",
      "ResultsFirstPosted       13 non-null object\n",
      "LastUpdatePosted         201 non-null object\n",
      "Locations                201 non-null object\n",
      "Rank                     201 non-null int64\n",
      "StudyDocuments           4 non-null object\n",
      "StudyResults             201 non-null object\n",
      "URL                      201 non-null object\n",
      "dtypes: float64(1), int64(1), object(25)\n",
      "memory usage: 42.5+ KB\n"
     ]
    }
   ],
   "source": [
    "CT_data.info()"
   ]
  },
  {
   "cell_type": "code",
   "execution_count": 5,
   "metadata": {},
   "outputs": [
    {
     "data": {
      "text/plain": [
       "NCTNumber                 object\n",
       "Title                     object\n",
       "Acronym                   object\n",
       "Status                    object\n",
       "Conditions                object\n",
       "Interventions             object\n",
       "OutcomeMeasures           object\n",
       "Sponsor/Collaborators     object\n",
       "Gender                    object\n",
       "Age                       object\n",
       "Phases                    object\n",
       "Enrollment               float64\n",
       "FundedBys                 object\n",
       "StudyType                 object\n",
       "StudyDesigns              object\n",
       "OtherIDs                  object\n",
       "StartDate                 object\n",
       "PrimaryCompletionDate     object\n",
       "CompletionDate            object\n",
       "FirstPosted               object\n",
       "ResultsFirstPosted        object\n",
       "LastUpdatePosted          object\n",
       "Locations                 object\n",
       "Rank                       int64\n",
       "StudyDocuments            object\n",
       "StudyResults              object\n",
       "URL                       object\n",
       "dtype: object"
      ]
     },
     "execution_count": 5,
     "metadata": {},
     "output_type": "execute_result"
    }
   ],
   "source": [
    "CT_data.dtypes"
   ]
  },
  {
   "cell_type": "code",
   "execution_count": 6,
   "metadata": {},
   "outputs": [
    {
     "data": {
      "text/plain": [
       "NCTNumber                                                      NCT04073472\n",
       "Title                    Mesenchymal Stem Cells for the Treatment of Po...\n",
       "Acronym                                                              IPAAF\n",
       "Status                                                  Not yet recruiting\n",
       "Conditions               Crohn's Disease|Fistula|Anal Fistula|Pouch, Il...\n",
       "Interventions                          Drug: mesenchymal stem cells (MSCs)\n",
       "OutcomeMeasures          Safety and Feasibility: Number Of Adverse Even...\n",
       "Sponsor/Collaborators                                 The Cleveland Clinic\n",
       "Gender                                                                 All\n",
       "Age                            18 Years to 75 Years   (Adult, Older Adult)\n",
       "Phases                                                             Phase 1\n",
       "Enrollment                                                              15\n",
       "FundedBys                                                            Other\n",
       "StudyType                                                   Interventional\n",
       "StudyDesigns             Intervention Model: Single Group Assignment|Ma...\n",
       "OtherIDs                                       IPAAF IND# IRB# are pending\n",
       "StartDate                                                 November 1, 2019\n",
       "PrimaryCompletionDate                                     November 1, 2021\n",
       "CompletionDate                                            November 1, 2022\n",
       "FirstPosted                                                August 29, 2019\n",
       "ResultsFirstPosted                                                     NaN\n",
       "LastUpdatePosted                                           August 29, 2019\n",
       "Locations                 Cleveland Clinic, Cleveland, Ohio, United States\n",
       "Rank                                                                     1\n",
       "StudyDocuments                                                         NaN\n",
       "StudyResults                                          No Results Available\n",
       "URL                            https://ClinicalTrials.gov/show/NCT04073472\n",
       "Name: 0, dtype: object"
      ]
     },
     "execution_count": 6,
     "metadata": {},
     "output_type": "execute_result"
    }
   ],
   "source": [
    "# export one row to know the style of the raw data\n",
    "CT_data.iloc[0]"
   ]
  },
  {
   "cell_type": "markdown",
   "metadata": {},
   "source": [
    "The following list shows how many nulls in each column. Most clinical trilas don't proivde study documents to the governemtn. The results are also not posted. "
   ]
  },
  {
   "cell_type": "code",
   "execution_count": 7,
   "metadata": {},
   "outputs": [
    {
     "data": {
      "text/plain": [
       "NCTNumber                  0\n",
       "Title                      0\n",
       "Acronym                  152\n",
       "Status                     0\n",
       "Conditions                 0\n",
       "Interventions             10\n",
       "OutcomeMeasures            8\n",
       "Sponsor/Collaborators      0\n",
       "Gender                     0\n",
       "Age                        0\n",
       "Phases                    23\n",
       "Enrollment                 8\n",
       "FundedBys                  0\n",
       "StudyType                  0\n",
       "StudyDesigns               9\n",
       "OtherIDs                   0\n",
       "StartDate                  9\n",
       "PrimaryCompletionDate     10\n",
       "CompletionDate            11\n",
       "FirstPosted                0\n",
       "ResultsFirstPosted       188\n",
       "LastUpdatePosted           0\n",
       "Locations                  0\n",
       "Rank                       0\n",
       "StudyDocuments           197\n",
       "StudyResults               0\n",
       "URL                        0\n",
       "dtype: int64"
      ]
     },
     "execution_count": 7,
     "metadata": {},
     "output_type": "execute_result"
    }
   ],
   "source": [
    "CT_data.isnull().sum()"
   ]
  },
  {
   "cell_type": "markdown",
   "metadata": {
    "colab_type": "text",
    "id": "_SGbbqfV53B4"
   },
   "source": [
    "# Exploratory data analysis"
   ]
  },
  {
   "cell_type": "markdown",
   "metadata": {},
   "source": [
    "## Status of clinical trials based on the gender"
   ]
  },
  {
   "cell_type": "markdown",
   "metadata": {},
   "source": [
    "First of all, I would linke to understand the status of clinical trials of mesenchymal stem cells. The following plot shows that most clinical trials is still recuriting. The second group is completed. These two groups are way larger than other groups."
   ]
  },
  {
   "cell_type": "code",
   "execution_count": 8,
   "metadata": {},
   "outputs": [
    {
     "data": {
      "text/plain": [
       "Text(0, 0.5, 'Count')"
      ]
     },
     "execution_count": 8,
     "metadata": {},
     "output_type": "execute_result"
    },
    {
     "data": {
      "image/png": "[encoded data removed]",
      "text/plain": [
       "<Figure size 1440x432 with 1 Axes>"
      ]
     },
     "metadata": {
      "needs_background": "light"
     },
     "output_type": "display_data"
    }
   ],
   "source": [
    "plt.figure(figsize=(20,6))\n",
    "plt.title(\"Status of Clinical Trilas with MSC\")\n",
    "sns.countplot(x=\"Status\", data=CT_data, order = CT_data['Status'].value_counts().index)\n",
    "plt.xlabel('Status of clinical trials')\n",
    "plt.ylabel('Count')"
   ]
  },
  {
   "cell_type": "code",
   "execution_count": 9,
   "metadata": {
    "colab": {
     "base_uri": "https://localhost:8080/",
     "height": 421
    },
    "colab_type": "code",
    "executionInfo": {
     "elapsed": 729,
     "status": "ok",
     "timestamp": 1571184869651,
     "user": {
      "displayName": "Chia-Hsing Pi",
      "photoUrl": "https://lh3.googleusercontent.com/a-/AAuE7mBWNlif29dlJWqGJJ9cmiellYkGkMifE_8maEJ16-0=s64",
      "userId": "07957943304096645871"
     },
     "user_tz": 300
    },
    "id": "GHuU1dZl3R9s",
    "outputId": "55f4775d-4115-457b-a5aa-750ee0fdf071"
   },
   "outputs": [
    {
     "data": {
      "text/plain": [
       "Text(0, 0.5, 'Count')"
      ]
     },
     "execution_count": 9,
     "metadata": {},
     "output_type": "execute_result"
    },
    {
     "data": {
      "image/png": "[encoded data removed]",
      "text/plain": [
       "<Figure size 1440x432 with 1 Axes>"
      ]
     },
     "metadata": {
      "needs_background": "light"
     },
     "output_type": "display_data"
    }
   ],
   "source": [
    "plt.figure(figsize=(20,6))\n",
    "plt.title(\"Status of Clinical Trilas with MSC\")\n",
    "sns.countplot(x=\"Status\", data=CT_data[CT_data['Gender'] == 'Male'], order = CT_data['Status'].value_counts().index)\n",
    "plt.xlabel('Status of clinical trials')\n",
    "plt.ylabel('Count')"
   ]
  },
  {
   "cell_type": "code",
   "execution_count": 10,
   "metadata": {},
   "outputs": [
    {
     "data": {
      "text/plain": [
       "Text(0, 0.5, 'Count')"
      ]
     },
     "execution_count": 10,
     "metadata": {},
     "output_type": "execute_result"
    },
    {
     "data": {
      "image/png": "[encoded data removed]",
      "text/plain": [
       "<Figure size 1440x432 with 1 Axes>"
      ]
     },
     "metadata": {
      "needs_background": "light"
     },
     "output_type": "display_data"
    }
   ],
   "source": [
    "plt.figure(figsize=(20,6))\n",
    "plt.title(\"Status of Clinical Trilas with MSC\")\n",
    "sns.countplot(x=\"Status\", data=CT_data[CT_data['Gender'] == 'Female'], order = CT_data['Status'].value_counts().index)\n",
    "plt.xlabel('Status of clinical trials')\n",
    "plt.ylabel('Count')"
   ]
  },
  {
   "cell_type": "markdown",
   "metadata": {},
   "source": [
    "Second, I would like to see the status of clinical trials. It shows that The number of Phase 1 is lager than the summation of phase 2 and 3. In other words, many research groups propose different trials with MSC, but only few of them can enter to Phase 2 and Phase 3."
   ]
  },
  {
   "cell_type": "code",
   "execution_count": 11,
   "metadata": {},
   "outputs": [
    {
     "data": {
      "text/plain": [
       "<matplotlib.axes._subplots.AxesSubplot at 0x2cc409a3348>"
      ]
     },
     "execution_count": 11,
     "metadata": {},
     "output_type": "execute_result"
    },
    {
     "data": {
      "image/png": "[encoded data removed]",
      "text/plain": [
       "<Figure size 1440x432 with 1 Axes>"
      ]
     },
     "metadata": {
      "needs_background": "light"
     },
     "output_type": "display_data"
    }
   ],
   "source": [
    "plt.figure(figsize=(20,6))\n",
    "sns.countplot(y='Status',hue='Gender',data=CT_data, order = CT_data['Status'].value_counts().index)"
   ]
  },
  {
   "cell_type": "markdown",
   "metadata": {},
   "source": [
    "## Phases of clinical trials"
   ]
  },
  {
   "cell_type": "code",
   "execution_count": 12,
   "metadata": {},
   "outputs": [
    {
     "data": {
      "text/plain": [
       "Text(0, 0.5, 'Count')"
      ]
     },
     "execution_count": 12,
     "metadata": {},
     "output_type": "execute_result"
    },
    {
     "data": {
      "image/png": "[encoded data removed]",
      "text/plain": [
       "<Figure size 1440x432 with 1 Axes>"
      ]
     },
     "metadata": {
      "needs_background": "light"
     },
     "output_type": "display_data"
    }
   ],
   "source": [
    "plt.figure(figsize=(20,6))\n",
    "phase_oreder=['Early Phase 1', 'Phase 1', 'Phase 1|Phase 2', 'Phase 2', 'Phase 2|Phase 3', 'Phase 3', 'Phase 4', 'Not Applicable']\n",
    "plt.title(\"Phases of Clinical Trilas with MSC\")\n",
    "sns.countplot(x=\"Phases\", data=CT_data, order=phase_oreder)\n",
    "plt.xlabel('Phases of clinical trials')\n",
    "plt.ylabel('Count')"
   ]
  },
  {
   "cell_type": "code",
   "execution_count": 13,
   "metadata": {
    "colab": {
     "base_uri": "https://localhost:8080/",
     "height": 255
    },
    "colab_type": "code",
    "executionInfo": {
     "elapsed": 465,
     "status": "ok",
     "timestamp": 1571184329411,
     "user": {
      "displayName": "Chia-Hsing Pi",
      "photoUrl": "https://lh3.googleusercontent.com/a-/AAuE7mBWNlif29dlJWqGJJ9cmiellYkGkMifE_8maEJ16-0=s64",
      "userId": "07957943304096645871"
     },
     "user_tz": 300
    },
    "id": "nyuC8tfsEyOS",
    "outputId": "0b04d66d-9271-4a78-fb4a-55263ceedab7"
   },
   "outputs": [
    {
     "data": {
      "image/png": "[encoded data removed]",
      "text/plain": [
       "<Figure size 1440x432 with 1 Axes>"
      ]
     },
     "metadata": {},
     "output_type": "display_data"
    }
   ],
   "source": [
    "plt.figure(figsize=(20,6))\n",
    "labels = CT_data['Phases'].value_counts().index\n",
    "plt.pie(CT_data['Phases'].value_counts(), labels = labels, autopct='%1.0f%%')\n",
    "plt.axis('equal')\n",
    "plt.show()"
   ]
  },
  {
   "cell_type": "markdown",
   "metadata": {},
   "source": [
    "Third, I would like to know how many patients enrolled all phases of clinical trials. It shows tht Phase 3 clinical trilas require most patients to enroll. "
   ]
  },
  {
   "cell_type": "code",
   "execution_count": 14,
   "metadata": {
    "colab": {
     "base_uri": "https://localhost:8080/",
     "height": 422
    },
    "colab_type": "code",
    "executionInfo": {
     "elapsed": 780,
     "status": "ok",
     "timestamp": 1571184301018,
     "user": {
      "displayName": "Chia-Hsing Pi",
      "photoUrl": "https://lh3.googleusercontent.com/a-/AAuE7mBWNlif29dlJWqGJJ9cmiellYkGkMifE_8maEJ16-0=s64",
      "userId": "07957943304096645871"
     },
     "user_tz": 300
    },
    "id": "F6hI__-Xr_pc",
    "outputId": "1aa1966f-0600-4310-e712-aa16ad8ff3eb"
   },
   "outputs": [
    {
     "data": {
      "text/plain": [
       "Text(0, 0.5, 'Enrollment')"
      ]
     },
     "execution_count": 14,
     "metadata": {},
     "output_type": "execute_result"
    },
    {
     "data": {
      "image/png": "[encoded data removed]",
      "text/plain": [
       "<Figure size 1440x432 with 1 Axes>"
      ]
     },
     "metadata": {
      "needs_background": "light"
     },
     "output_type": "display_data"
    }
   ],
   "source": [
    "plt.figure(figsize=(20,6))\n",
    "sns.barplot(x=CT_data['Phases'], y=CT_data['Enrollment'], order=phase_oreder)\n",
    "plt.title(\"Enrollment for Clinical Trilas Phases\")\n",
    "plt.xlabel(\"Clinical Trials Phases\")\n",
    "plt.ylabel(\"Enrollment\")"
   ]
  },
  {
   "cell_type": "markdown",
   "metadata": {},
   "source": [
    "Forrth, the following plot indicates the funding sources of clinical trails. It shows non-specified funding source is the major population. The second largest source comes from industry. However, another figure displays different relations between fundinf sources and enrollment. Patients prefer to enroll clinical trials with funding from government."
   ]
  },
  {
   "cell_type": "markdown",
   "metadata": {},
   "source": [
    "## Funding sources of clinical trials"
   ]
  },
  {
   "cell_type": "code",
   "execution_count": 15,
   "metadata": {},
   "outputs": [
    {
     "data": {
      "text/plain": [
       "Mayo Clinic                                           19\n",
       "Mesoblast International Sàrl|Mesoblast, Ltd.          12\n",
       "Joshua M Hare|University of Miami                      6\n",
       "Hope Biosciences                                       5\n",
       "Longeveron LLC                                         4\n",
       "                                                      ..\n",
       "Orthofix Inc.                                          1\n",
       "Rebecca Torguson|Medstar Health Research Institute     1\n",
       "Roger Williams Medical Center                          1\n",
       "Medistem Inc.                                          1\n",
       "Nature Cell Co. Ltd.                                   1\n",
       "Name: Sponsor/Collaborators, Length: 134, dtype: int64"
      ]
     },
     "execution_count": 15,
     "metadata": {},
     "output_type": "execute_result"
    }
   ],
   "source": [
    "CT_data['Sponsor/Collaborators'].value_counts()"
   ]
  },
  {
   "cell_type": "code",
   "execution_count": 16,
   "metadata": {},
   "outputs": [
    {
     "data": {
      "text/plain": [
       "Other                 103\n",
       "Industry               52\n",
       "Other|NIH              15\n",
       "Industry|Other          9\n",
       "Other|Industry          6\n",
       "Other|NIH|Industry      3\n",
       "NIH                     3\n",
       "U.S. Fed                3\n",
       "Other|U.S. Fed          2\n",
       "NIH|Industry            1\n",
       "Industry|NIH            1\n",
       "U.S. Fed|Other          1\n",
       "NIH|Other               1\n",
       "Other|Industry|NIH      1\n",
       "Name: FundedBys, dtype: int64"
      ]
     },
     "execution_count": 16,
     "metadata": {},
     "output_type": "execute_result"
    }
   ],
   "source": [
    "CT_data['FundedBys'].value_counts()"
   ]
  },
  {
   "cell_type": "code",
   "execution_count": 17,
   "metadata": {
    "colab": {
     "base_uri": "https://localhost:8080/",
     "height": 409
    },
    "colab_type": "code",
    "executionInfo": {
     "elapsed": 1412,
     "status": "ok",
     "timestamp": 1571169184746,
     "user": {
      "displayName": "Chia-Hsing Pi",
      "photoUrl": "https://lh3.googleusercontent.com/a-/AAuE7mBWNlif29dlJWqGJJ9cmiellYkGkMifE_8maEJ16-0=s64",
      "userId": "07957943304096645871"
     },
     "user_tz": 300
    },
    "id": "668wxhrW3HUr",
    "outputId": "5583ef18-72d8-4735-9b57-640bb21d92a6"
   },
   "outputs": [
    {
     "data": {
      "text/plain": [
       "Text(0, 0.5, 'Counts')"
      ]
     },
     "execution_count": 17,
     "metadata": {},
     "output_type": "execute_result"
    },
    {
     "data": {
      "image/png": "[encoded data removed]",
      "text/plain": [
       "<Figure size 1440x432 with 1 Axes>"
      ]
     },
     "metadata": {
      "needs_background": "light"
     },
     "output_type": "display_data"
    }
   ],
   "source": [
    "plt.figure(figsize=(20,6))\n",
    "plt.title('Funding sources of clinical trials')\n",
    "sns.countplot(x=\"FundedBys\", data=CT_data, order = CT_data['FundedBys'].value_counts().index)\n",
    "plt.xlabel('Funding sources of clinical trials')\n",
    "plt.ylabel('Counts')"
   ]
  },
  {
   "cell_type": "code",
   "execution_count": 18,
   "metadata": {
    "colab": {
     "base_uri": "https://localhost:8080/",
     "height": 422
    },
    "colab_type": "code",
    "executionInfo": {
     "elapsed": 917,
     "status": "ok",
     "timestamp": 1571185233678,
     "user": {
      "displayName": "Chia-Hsing Pi",
      "photoUrl": "https://lh3.googleusercontent.com/a-/AAuE7mBWNlif29dlJWqGJJ9cmiellYkGkMifE_8maEJ16-0=s64",
      "userId": "07957943304096645871"
     },
     "user_tz": 300
    },
    "id": "5tHOFDj2vFD-",
    "outputId": "75882fb0-d6ed-4b2f-9480-adb550c3c8a0"
   },
   "outputs": [
    {
     "data": {
      "text/plain": [
       "Text(0, 0.5, 'Enrollment')"
      ]
     },
     "execution_count": 18,
     "metadata": {},
     "output_type": "execute_result"
    },
    {
     "data": {
      "image/png": "[encoded data removed]",
      "text/plain": [
       "<Figure size 1440x432 with 1 Axes>"
      ]
     },
     "metadata": {
      "needs_background": "light"
     },
     "output_type": "display_data"
    }
   ],
   "source": [
    "plt.figure(figsize=(20,6))\n",
    "plt.title('Founding sources of clinical trials to enrollment')\n",
    "sns.barplot(x=CT_data['FundedBys'], y=CT_data['Enrollment'], order = CT_data['FundedBys'].value_counts().index)\n",
    "plt.xlabel('Funding sources of clinical trials')\n",
    "plt.ylabel('Enrollment')"
   ]
  },
  {
   "cell_type": "markdown",
   "metadata": {},
   "source": [
    "Next, I extrace the information of institution, city, and state from locations. That will let us know which state/city has most clinical trials of MSC. Florida, Texas, and Minnesota have most clinical trials"
   ]
  },
  {
   "cell_type": "markdown",
   "metadata": {},
   "source": [
    "## Geospatial analysis"
   ]
  },
  {
   "cell_type": "code",
   "execution_count": 19,
   "metadata": {},
   "outputs": [],
   "source": [
    "# extract institution, city, and state\n",
    "address = CT_data.Locations # This column contains institution, city, address\n",
    "instit=[] # institution\n",
    "city=[] # city\n",
    "state=[] # state\n",
    "for a in address:\n",
    "    asplit = a.split(\",\")\n",
    "    instit.append(asplit[0])\n",
    "    city.append(asplit[-3])\n",
    "    state.append(asplit[-2].replace(\" \", \"\"))\n",
    "\n",
    "CT_data['Institution'] = instit\n",
    "CT_data['City'] = city\n",
    "CT_data['State'] = state"
   ]
  },
  {
   "cell_type": "code",
   "execution_count": 20,
   "metadata": {},
   "outputs": [
    {
     "data": {
      "text/plain": [
       "array(['Ohio', 'Texas', 'Florida', 'Illinois', 'Minnesota', 'Kansas',\n",
       "       'Alabama', 'California', 'Maryland', 'SouthCarolina', 'Georgia',\n",
       "       'Louisiana', 'Indiana', 'RhodeIsland', 'NewYork', 'NewJersey',\n",
       "       'Pennsylvania', 'Colorado', 'Mississippi', 'Nevada',\n",
       "       'DistrictofColumbia', 'Massachusetts', 'Utah', 'NorthCarolina',\n",
       "       'Virginia', 'Tennessee', 'Hawaii', 'Missouri', 'Nebraska',\n",
       "       'SouthDakota', 'NewMexico', 'Wisconsin', 'UK', 'Vermont',\n",
       "       'Michigan', 'Ontario', 'Hamilton', 'Quebec', 'Washington',\n",
       "       'London', 'Connecticut', 'Victoria'], dtype=object)"
      ]
     },
     "execution_count": 20,
     "metadata": {},
     "output_type": "execute_result"
    }
   ],
   "source": [
    "CT_data['State'].unique()"
   ]
  },
  {
   "cell_type": "code",
   "execution_count": 21,
   "metadata": {},
   "outputs": [
    {
     "data": {
      "text/plain": [
       "Florida         30\n",
       "Texas           29\n",
       "Minnesota       24\n",
       "Ohio            11\n",
       "California      10\n",
       "Maryland         9\n",
       "NewYork          6\n",
       "Pennsylvania     6\n",
       "Utah             5\n",
       "Wisconsin        5\n",
       "Name: State, dtype: int64"
      ]
     },
     "execution_count": 21,
     "metadata": {},
     "output_type": "execute_result"
    }
   ],
   "source": [
    "CT_data['State'].value_counts().iloc[:10]"
   ]
  },
  {
   "cell_type": "code",
   "execution_count": 22,
   "metadata": {},
   "outputs": [
    {
     "data": {
      "text/plain": [
       " Rochester         21\n",
       " Houston           21\n",
       " Miami             18\n",
       " Cleveland         10\n",
       " Atlanta            5\n",
       " Baltimore          5\n",
       " Jacksonville       5\n",
       " New York           5\n",
       " Salt Lake City     5\n",
       " Charleston         4\n",
       "Name: City, dtype: int64"
      ]
     },
     "execution_count": 22,
     "metadata": {},
     "output_type": "execute_result"
    }
   ],
   "source": [
    "CT_data['City'].value_counts().iloc[:10]"
   ]
  },
  {
   "cell_type": "code",
   "execution_count": 23,
   "metadata": {},
   "outputs": [
    {
     "data": {
      "text/plain": [
       "Mayo Clinic in Florida                                         4\n",
       "University of Miami Miller School of Medicine                  4\n",
       "ISCI / University of Miami Miller School of Medicine           3\n",
       "Z Urology                                                      2\n",
       "ISCI / University of Miami                                     2\n",
       "University of Miami                                            2\n",
       "Andrews Institute                                              1\n",
       "Interdisciplinary stem cell institute (ISCI)                   1\n",
       "University of California                                       1\n",
       "UCLA School of Medicine                                        1\n",
       "Interdisciplinary Stem Cell Institute / University of Miami    1\n",
       "ISCI/University of Miami Miller School of Medicine             1\n",
       "University of Miami School of Medicine                         1\n",
       "Trinity Stem Cell Institution                                  1\n",
       "MD Stem Cells                                                  1\n",
       "Univeristy of Miami Miller School of Medicine                  1\n",
       "Ageless Institute LLC                                          1\n",
       "Mayo Clinic Jacksonville                                       1\n",
       "University of Miami Hospitals & Clinics                        1\n",
       "Name: Institution, dtype: int64"
      ]
     },
     "execution_count": 23,
     "metadata": {},
     "output_type": "execute_result"
    }
   ],
   "source": [
    "CT_data.Institution[CT_data['State']=='Florida'].value_counts()"
   ]
  },
  {
   "cell_type": "code",
   "execution_count": 24,
   "metadata": {},
   "outputs": [
    {
     "data": {
      "text/plain": [
       "University of Texas MD Anderson Cancer Center                                   4\n",
       "The University of Texas Health Science Center at Houston                        3\n",
       "M D Anderson Cancer Center                                                      3\n",
       "Clinical Trial Network                                                          3\n",
       "Memorial Hermann Hospital-Clinical Research Unit (MMH-CRU)                      2\n",
       "Indiana University Simon Cancer Center                                          1\n",
       "University of Texas Health Science Center                                       1\n",
       "Accurate Clinical Research                                                      1\n",
       "University of Southern California Keck School of Medicine                       1\n",
       "University of Southern California                                               1\n",
       "Baylor Scott and White Research Institute                                       1\n",
       "Hope Biosciences                                                                1\n",
       "Baylor College of Medicine                                                      1\n",
       "Houston Methodist Hospital System                                               1\n",
       "West Coast Clinical Trials (WCCT)                                               1\n",
       "Arizona Heart Institute                                                         1\n",
       "Texas Back Institute                                                            1\n",
       "Stanford University School of Medicine (Falk Cardiovascular Research Center)    1\n",
       "Stanford University School of Medicine                                          1\n",
       "Name: Institution, dtype: int64"
      ]
     },
     "execution_count": 24,
     "metadata": {},
     "output_type": "execute_result"
    }
   ],
   "source": [
    "CT_data.Institution[CT_data['State']=='Texas'].value_counts()"
   ]
  },
  {
   "cell_type": "code",
   "execution_count": 25,
   "metadata": {},
   "outputs": [
    {
     "data": {
      "text/plain": [
       "Mayo Clinic in Rochester                                            12\n",
       "Mayo Clinic                                                          7\n",
       "University of Minnesota Masonic Cancer Center and Medical Center     2\n",
       "Massachusetts General Hospital                                       1\n",
       "University of California Irvine Alpha Stem Cell Clinic               1\n",
       "Children's Hospital of Alabama                                       1\n",
       "Name: Institution, dtype: int64"
      ]
     },
     "execution_count": 25,
     "metadata": {},
     "output_type": "execute_result"
    }
   ],
   "source": [
    "CT_data.Institution[CT_data['State']=='Minnesota'].value_counts()"
   ]
  },
  {
   "cell_type": "code",
   "execution_count": 26,
   "metadata": {},
   "outputs": [
    {
     "data": {
      "text/plain": [
       "Text(0, 0.5, 'Count')"
      ]
     },
     "execution_count": 26,
     "metadata": {},
     "output_type": "execute_result"
    },
    {
     "data": {
      "image/png": "[encoded data removed]",
      "text/plain": [
       "<Figure size 1440x432 with 1 Axes>"
      ]
     },
     "metadata": {
      "needs_background": "light"
     },
     "output_type": "display_data"
    }
   ],
   "source": [
    "plt.figure(figsize=(20,6))\n",
    "plt.title(\"Which state has most clinical trials of MSC?\")\n",
    "sns.countplot(x=\"State\", data=CT_data, order = CT_data['State'].value_counts().iloc[:10].index)\n",
    "plt.xlabel('State')\n",
    "plt.ylabel('Count')"
   ]
  },
  {
   "cell_type": "code",
   "execution_count": 27,
   "metadata": {},
   "outputs": [
    {
     "data": {
      "text/plain": [
       "Text(0, 0.5, 'Count')"
      ]
     },
     "execution_count": 27,
     "metadata": {},
     "output_type": "execute_result"
    },
    {
     "data": {
      "image/png": "[encoded data removed]",
      "text/plain": [
       "<Figure size 1440x432 with 1 Axes>"
      ]
     },
     "metadata": {
      "needs_background": "light"
     },
     "output_type": "display_data"
    }
   ],
   "source": [
    "plt.figure(figsize=(20,6))\n",
    "plt.title(\"Which city has most clinical trials of MSC?\")\n",
    "sns.countplot(x=\"City\", data=CT_data, order = CT_data['City'].value_counts().iloc[:10].index)\n",
    "plt.xlabel('City')\n",
    "plt.ylabel('Count')"
   ]
  },
  {
   "cell_type": "markdown",
   "metadata": {},
   "source": [
    "## Several things can be also analyzed such as outcome measures and conditions"
   ]
  }
 ],
 "metadata": {
  "colab": {
   "collapsed_sections": [],
   "name": "MSC_Clinical-Trials.ipynb",
   "provenance": []
  },
  "kernelspec": {
   "display_name": "Python 3",
   "language": "python",
   "name": "python3"
  },
  "language_info": {
   "codemirror_mode": {
    "name": "ipython",
    "version": 3
   },
   "file_extension": ".py",
   "mimetype": "text/x-python",
   "name": "python",
   "nbconvert_exporter": "python",
   "pygments_lexer": "ipython3",
   "version": "3.7.5"
  }
 },
 "nbformat": 4,
 "nbformat_minor": 4
}
